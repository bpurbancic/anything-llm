{
 "cells": [
  {
   "cell_type": "code",
   "execution_count": 23,
   "id": "fddc4d80",
   "metadata": {},
   "outputs": [
    {
     "name": "stdout",
     "output_type": "stream",
     "text": [
      "notebook path: C:\\Dev-Projects\\anythingllm-docker\\scripts\\notebooks\n",
      "root: C:\\Dev-Projects\\anythingllm-docker\n",
      "✅ PYTHONPATH set to: C:\\Dev-Projects\\anythingllm-docker\n"
     ]
    }
   ],
   "source": [
    "import sys\n",
    "from pathlib import Path\n",
    "from IPython import get_ipython\n",
    "\n",
    "# Get the path to the current notebook\n",
    "notebook_path = Path(get_ipython().run_line_magic(\"pwd\", \"\")).resolve()\n",
    "print(\"notebook path:\", notebook_path)\n",
    "\n",
    "# Go up two levels to reach the project root\n",
    "PROJECT_ROOT = notebook_path.parents[1]\n",
    "print(\"root:\", PROJECT_ROOT)\n",
    "\n",
    "# Add to sys.path if not already there\n",
    "if str(PROJECT_ROOT) not in sys.path:\n",
    "    sys.path.append(str(PROJECT_ROOT))\n",
    "\n",
    "# Confirm\n",
    "print(\"✅ PYTHONPATH set to:\", PROJECT_ROOT)\n"
   ]
  },
  {
   "cell_type": "code",
   "execution_count": null,
   "id": "68cdcf28",
   "metadata": {},
   "outputs": [],
   "source": []
  },
  {
   "cell_type": "code",
   "execution_count": 24,
   "id": "8f0c2220",
   "metadata": {},
   "outputs": [],
   "source": [
    "from utils.paths import REIBER_DB_TABLE_PATH, LANCEDB_DIR\n",
    "# from utils.paths import LANCEDB_DIR\n",
    "\n",
    "import lancedb\n",
    "import pandas as pd\n"
   ]
  },
  {
   "cell_type": "code",
   "execution_count": 25,
   "id": "0a43efb6",
   "metadata": {},
   "outputs": [
    {
     "name": "stdout",
     "output_type": "stream",
     "text": [
      "Tables found: ['reiber-group-anythingllm-command-center']\n",
      "# of tables: 1\n",
      "reiber-group-anythingllm-command-center\n"
     ]
    }
   ],
   "source": [
    "db = lancedb.connect(LANCEDB_DIR)\n",
    "table_names = db.table_names()\n",
    "print(\"Tables found:\", table_names)\n",
    "print(\"# of tables:\", len(table_names))\n",
    "print(table_names[0])\n"
   ]
  },
  {
   "cell_type": "code",
   "execution_count": 26,
   "id": "0c347844",
   "metadata": {},
   "outputs": [],
   "source": [
    "table = db.open_table(table_names[0])"
   ]
  },
  {
   "cell_type": "code",
   "execution_count": 27,
   "id": "15ec32c9",
   "metadata": {},
   "outputs": [
    {
     "name": "stdout",
     "output_type": "stream",
     "text": [
      "notebook path: C:\\Dev-Projects\\anythingllm-docker\\scripts\\notebooks\n",
      "root: C:\\Dev-Projects\\anythingllm-docker\n",
      "✅ PYTHONPATH set to: C:\\Dev-Projects\\anythingllm-docker\n",
      "DB_PATH: C:\\Dev-Projects\\anythingllm-docker\\server\\storage\\lancedb\n",
      "REIBER_DB_TABLE_PATH: C:\\Dev-Projects\\anythingllm-docker\\server\\storage\\lancedb\\reiber-group-anythingllm-command-center.lance\n"
     ]
    }
   ],
   "source": [
    "print(\"notebook path:\", notebook_path)\n",
    "print(\"root:\", PROJECT_ROOT)\n",
    "print(\"✅ PYTHONPATH set to:\", PROJECT_ROOT)\n",
    "print(\"DB_PATH:\", LANCEDB_DIR)\n",
    "print(\"REIBER_DB_TABLE_PATH:\", REIBER_DB_TABLE_PATH)"
   ]
  },
  {
   "cell_type": "code",
   "execution_count": 28,
   "id": "539eb9e8",
   "metadata": {},
   "outputs": [
    {
     "name": "stdout",
     "output_type": "stream",
     "text": [
      "\n",
      "TableSchema:\n",
      "\n",
      "id: string\n",
      "url: string\n",
      "title: string\n",
      "docAuthor: string\n",
      "description: string\n",
      "docSource: string\n",
      "chunkSource: string\n",
      "published: string\n",
      "wordCount: double\n",
      "token_count_estimate: double\n",
      "text: string\n",
      "vector: fixed_size_list<item: float>[768]\n",
      "  child 0, item: float\n"
     ]
    }
   ],
   "source": [
    "print(\"\\nTableSchema:\\n\")\n",
    "print(table.schema)\n"
   ]
  }
 ],
 "metadata": {
  "kernelspec": {
   "display_name": "venv-lance",
   "language": "python",
   "name": "python3"
  },
  "language_info": {
   "codemirror_mode": {
    "name": "ipython",
    "version": 3
   },
   "file_extension": ".py",
   "mimetype": "text/x-python",
   "name": "python",
   "nbconvert_exporter": "python",
   "pygments_lexer": "ipython3",
   "version": "3.11.0"
  }
 },
 "nbformat": 4,
 "nbformat_minor": 5
}
